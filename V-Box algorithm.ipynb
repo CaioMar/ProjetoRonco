{
 "cells": [
  {
   "cell_type": "code",
   "execution_count": 1,
   "metadata": {},
   "outputs": [],
   "source": [
    "import numpy as np\n",
    "import pandas as pd\n",
    "import scipy.io.wavfile as wavfile\n",
    "import matplotlib.pyplot as plt\n",
    "import seaborn as sns\n",
    "from scipy.signal import stft\n",
    "from scipy.fftpack import fft #\n",
    "from scipy.signal import butter, lfilter ## used implement bandpass filter\n",
    "import peakutils\n",
    "import math\n",
    "sns.set()"
   ]
  },
  {
   "cell_type": "code",
   "execution_count": 2,
   "metadata": {},
   "outputs": [],
   "source": [
    "rate,file = wavfile.read('./../kiyoshiPRE110312_resample.wav','r')\n",
    "file2 = file[60*60*rate:-10*60*rate] #removing 10 minutes from before and after"
   ]
  },
  {
   "cell_type": "raw",
   "metadata": {},
   "source": [
    "###NOT IMPORTANT RIGHT NOW###\n",
    "file3 = file2[0:len(file2)//2]\n",
    "file4 = file2[len(file2)//2:]\n",
    "len(file3[len(file3)*1//4:len(file3)*3//4])/rate\n",
    "ratePRE, segmentPRE = wavfile.read('./kiyoshiPRE110312_resample_segment_1.wav','r')\n",
    "ratePOS, segmentPOS = wavfile.read('./kiyoshiPOS130612_resample_segment_1.wav','r')"
   ]
  },
  {
   "cell_type": "markdown",
   "metadata": {},
   "source": [
    "Butterworth Bandpass filter implementation:"
   ]
  },
  {
   "cell_type": "code",
   "execution_count": 3,
   "metadata": {},
   "outputs": [],
   "source": [
    "def butter_filter(data, critfreq, fs, tp = 'band', order=5):\n",
    "    nyq = 0.5 * fs\n",
    "    critfreq = list(np.array(critfreq)/ nyq)\n",
    "  #  print(critfreq)\n",
    "    b, a = butter(order, critfreq, btype=tp)\n",
    "    y = lfilter(b, a, data)\n",
    "    return y"
   ]
  },
  {
   "cell_type": "markdown",
   "metadata": {},
   "source": [
    "Creates the same intensity series discussed in the Adriano's article. In addition to this, we are able to vary the window length (in seconds) where the sum of intensities occurs and the overlap between segments (in percentage):"
   ]
  },
  {
   "cell_type": "code",
   "execution_count": 4,
   "metadata": {},
   "outputs": [],
   "source": [
    "def createIntensitySeries(audioSignal, fs, windowLength = 1, overlap = 0.5):\n",
    "    totalTime = len(audioSignal)//int(fs)\n",
    "    intensitySeries = np.zeros(len(audioSignal)//int((fs*windowLength*(1-overlap))))\n",
    "    time = np.linspace(0, totalTime,len(intensitySeries))\n",
    "    squaredSignal = np.square(audioSignal)\n",
    "    for i, _ in enumerate(intensitySeries):\n",
    "        #print(int(fs*i*windowLength*(1-overlap)),int(fs*(i*(1-overlap) + 1)*windowLength))\n",
    "        intensitySeries[i] = squaredSignal[int(fs*i*windowLength*(1-overlap)) : \n",
    "                                         int(fs*(i*(1-overlap) + 1)*windowLength)].sum()\n",
    "    return time, intensitySeries"
   ]
  },
  {
   "cell_type": "markdown",
   "metadata": {},
   "source": [
    "Creates another time series from the intensity series: the intervals between peaks."
   ]
  },
  {
   "cell_type": "code",
   "execution_count": 5,
   "metadata": {},
   "outputs": [],
   "source": [
    "def createIntervalSeries(intensitySeries, timeSeries, threshold, minimumDist):\n",
    "    inds = peakutils.indexes(intensitySeries, thres=threshold, min_dist=minimumDist)\n",
    "    #print(inds)\n",
    "    #print(len(inds))\n",
    "    intervalSeries = np.zeros(len(inds)-1)\n",
    "    #print(len(intervalSeries))\n",
    "    for j, i in enumerate(inds[1:]):\n",
    "        #print(j, i, timeSeries[inds[j]] - timeSeries[inds[j-1]] )\n",
    "        intervalSeries[j] = timeSeries[inds[j]] - timeSeries[inds[j-1]]\n",
    "    return intervalSeries, inds"
   ]
  },
  {
   "cell_type": "markdown",
   "metadata": {},
   "source": [
    "Function that performs an analysis on an audio signal. It first filters the signal, then creates the intensity series, and later performs a grid search on the peak threshold variable where I try to maximize the STII associated with the intensity series. It returns the filtered signal, the time vector, the intervals and other important arrays:"
   ]
  },
  {
   "cell_type": "code",
   "execution_count": 6,
   "metadata": {},
   "outputs": [],
   "source": [
    "def fullSignalAnalysis(signal, ratesig, windowLength = 1, overlap = 0.5):\n",
    "    tTime, Im = createIntensitySeries(signal, ratesig, windowLength, overlap)\n",
    "    gridSearchVector = np.linspace(0.001, 0.02, 4000)\n",
    "    totalSTII = np.zeros(len(gridSearchVector))\n",
    "    bestinds = np.array([])\n",
    "    bestSTII = 0\n",
    "    bestThreshold = 0\n",
    "    for i, bestThresh in enumerate(gridSearchVector):\n",
    "        intervals, inds = createIntervalSeries(Im, tTime, bestThresh, 2)\n",
    "        totalSTII[i] = len(intervals[(intervals > 10) & (intervals < 100)])\n",
    "        if (totalSTII[i] > bestSTII):\n",
    "            bestSTII = totalSTII[i]\n",
    "            bestinds = inds\n",
    "            bestThreshold = bestThresh\n",
    "    #plt.plot(totalSTII)\n",
    "    return Im, tTime, intervals, bestinds, totalSTII, bestSTII, bestThreshold"
   ]
  },
  {
   "cell_type": "markdown",
   "metadata": {},
   "source": [
    "This function plots the intensity series, and marks the peaks with an x, and also saves the figure:"
   ]
  },
  {
   "cell_type": "code",
   "execution_count": 7,
   "metadata": {},
   "outputs": [],
   "source": [
    "def plotIntensitySeries(Im, tTime, threshold, name):\n",
    "    indexes = peakutils.indexes(Im, thres=threshold, min_dist=2)\n",
    "    fig = plt.figure(figsize=(50,5))\n",
    "    plt.plot(tTime/60, Im)\n",
    "    plt.scatter(tTime[indexes]/60, Im[indexes] , marker='x')\n",
    "    plt.show()\n",
    "    fig.savefig(fname = name, dpi=500)"
   ]
  },
  {
   "cell_type": "code",
   "execution_count": 8,
   "metadata": {},
   "outputs": [],
   "source": [
    "#Imfull, tTimefull, intervalfull, indsfull, STIIfull, bestSTIIfull, thresholdfull = fullSignalAnalysis(file2, rate, 80, 4000, 6)\n",
    "filelow = None\n",
    "filelow = butter_filter(file2, [200], rate, 'high')\n",
    "filelow = butter_filter(filelow, [3900], rate, 'low')\n",
    "filelow = butter_filter(filelow, [1340, 2120], rate, 'stop')\n",
    "filelow = butter_filter(filelow, [300, 750], rate, 'stop')\n",
    "#filelow = butter_filter(filelow, [1450,1880], rate, 'band')\n",
    "#filelow = butter_filter(filelow, [1900,4000], rate, 'band')\n",
    "Imlow = None\n",
    "tTimelow = None\n",
    "intervallow = None\n",
    "indslow = None\n",
    "STIIlow = None\n",
    "bestSTIIlow = None\n",
    "thresholdlow = None\n",
    "Imlow, tTimelow, intervallow, indslow, STIIlow, bestSTIIlow, thresholdlow = fullSignalAnalysis(filelow, rate, 1, 0.5)\n",
    "#Imhigh, tTimehigh, intervalhigh, indshigh, STIIhigh, bestSTIIhigh, thresholdhigh = fullSignalAnalysis(file2, rate, 2200, 4000, 6)"
   ]
  },
  {
   "cell_type": "code",
   "execution_count": null,
   "metadata": {},
   "outputs": [],
   "source": [
    "indslow.size"
   ]
  },
  {
   "cell_type": "code",
   "execution_count": null,
   "metadata": {},
   "outputs": [],
   "source": [
    "\n",
    "\n"
   ]
  },
  {
   "cell_type": "code",
   "execution_count": null,
   "metadata": {},
   "outputs": [],
   "source": [
    "maxsignal = filelow.max()"
   ]
  },
  {
   "cell_type": "code",
   "execution_count": null,
   "metadata": {},
   "outputs": [],
   "source": [
    "filelow.std()"
   ]
  },
  {
   "cell_type": "code",
   "execution_count": null,
   "metadata": {},
   "outputs": [],
   "source": [
    "wavfile.write(\"segment.wav\", rate, filelow[rate*(3600*5-300):rate*(3600*5+300)]/maxsignal)"
   ]
  },
  {
   "cell_type": "code",
   "execution_count": null,
   "metadata": {},
   "outputs": [],
   "source": [
    "plt.plot(np.arange(rate*0,rate*300), filelow[rate*0:rate*300])"
   ]
  },
  {
   "cell_type": "code",
   "execution_count": null,
   "metadata": {},
   "outputs": [],
   "source": [
    "plt.plot(np.arange(rate*9000,rate*10000), filelow[rate*9000:rate*10000])"
   ]
  },
  {
   "cell_type": "code",
   "execution_count": null,
   "metadata": {},
   "outputs": [],
   "source": [
    "plt.plot(np.arange(rate*3600,rate*3900), filelow[rate*3600:rate*3900])"
   ]
  },
  {
   "cell_type": "code",
   "execution_count": null,
   "metadata": {},
   "outputs": [],
   "source": [
    "rtplt = int(1/(0.25*0.5))\n",
    "plt.plot(tTimelow[rtplt*3600:rtplt*3900], Imlow[rtplt*3600:rtplt*3900]/max(Imlow))"
   ]
  },
  {
   "cell_type": "code",
   "execution_count": null,
   "metadata": {},
   "outputs": [],
   "source": [
    "plt.plot(tTimelow[2*3600:2*3900], Imlow[2*3600:2*3900])"
   ]
  },
  {
   "cell_type": "code",
   "execution_count": 13,
   "metadata": {},
   "outputs": [
    {
     "data": {
      "image/png": "[encoded data removed]",
      "text/plain": [
       "<Figure size 3600x360 with 1 Axes>"
      ]
     },
     "metadata": {},
     "output_type": "display_data"
    }
   ],
   "source": [
    "#plotIntensitySeries(Imfull, tTimefull, thresholdfull, \"full\")\n",
    "plotIntensitySeries(Imlow, tTimelow, thresholdlow, \"low2\")\n",
    "#plotIntensitySeries(Imhigh, tTimehigh, thresholdhigh, \"high\")"
   ]
  },
  {
   "cell_type": "markdown",
   "metadata": {},
   "source": [
    "Plots the number of apnea events according to the STII index versus peak threshold choice:"
   ]
  },
  {
   "cell_type": "code",
   "execution_count": null,
   "metadata": {},
   "outputs": [],
   "source": [
    "#plt.plot(STIIfull)\n",
    "plt.plot(STIIlow)\n",
    "#plt.plot(STIIhigh)\n",
    "plt.show()"
   ]
  },
  {
   "cell_type": "markdown",
   "metadata": {},
   "source": [
    "Code bellow is an attempt to implement the modified V-Box algorithm (Azarbazin 2011) and to check whether it works with non-tracheal audio recordings."
   ]
  },
  {
   "cell_type": "code",
   "execution_count": 9,
   "metadata": {},
   "outputs": [],
   "source": [
    "def createThetaSeries(signal, height, length, stepforward=1,  theta = 0.95, overlap = 0.5, isAudioSignal = 1):\n",
    "    thetaSeries = np.zeros(int(len(signal)//(length*(1-stepforward/length))))\n",
    "    for i, _ in enumerate(thetaSeries):\n",
    "        box = signal[i*stepforward : i*stepforward + length]\n",
    "        thetaSeries[i] = box[(box < height)&(box > -height)].size/length\n",
    "    isEvent = thetaSeries < theta\n",
    "    isNotEvent = thetaSeries > theta\n",
    "    return thetaSeries, isEvent, isNotEvent"
   ]
  },
  {
   "cell_type": "code",
   "execution_count": 10,
   "metadata": {},
   "outputs": [],
   "source": [
    "def createTimeArrayFromIsEvent(isNotEvent, arraySize, length, stepForward):\n",
    "    timeArray = np.ones(arraySize)\n",
    "    for m, n in zip(range(0,isNotEvent.size), range(0,arraySize,stepForward)):\n",
    "        timeArray[n:n+length] = timeArray[n:n+length]*isNotEvent[m]\n",
    "       # print(isNotEvent[m],m,n,int(n+1/4*length), timeArray[int(n+1/4*length):int(n+3/4*length)], timeArray[int(n+1/4*length):int(n+3/4*length)].size)\n",
    "    return timeArray*(-1)+1"
   ]
  },
  {
   "cell_type": "code",
   "execution_count": null,
   "metadata": {},
   "outputs": [],
   "source": [
    "filelow[0:440][(filelow[0:440]<10)&(filelow[0:440]>-10)].size"
   ]
  },
  {
   "cell_type": "code",
   "execution_count": null,
   "metadata": {},
   "outputs": [],
   "source": [
    "int(len(filelow)//(int(rate//20-1)*(1-0.5)))"
   ]
  },
  {
   "cell_type": "code",
   "execution_count": null,
   "metadata": {},
   "outputs": [],
   "source": [
    "int(rate//2-1)"
   ]
  },
  {
   "cell_type": "code",
   "execution_count": null,
   "metadata": {},
   "outputs": [],
   "source": [
    "int(len(filelow)//(int(rate//4-1)*(1-0.5)))"
   ]
  },
  {
   "cell_type": "code",
   "execution_count": 11,
   "metadata": {},
   "outputs": [],
   "source": [
    "noteventsIntstySeries = np.ones(tTimelow.size)\n",
    "noteventsIntstySeries[indslow] = 0\n",
    "windowlength = int(rate//2-1)\n",
    "step = windowlength//2\n",
    "thetas = None\n",
    "events = None\n",
    "notevents = None\n",
    "thetas, events, notevents = createThetaSeries(filelow,35,windowlength,step)\n",
    "Time = None\n",
    "Time = createTimeArrayFromIsEvent(notevents, filelow.size, windowlength, step)\n",
    "TimeIntensity = None\n",
    "TimeIntensity = createTimeArrayFromIsEvent(noteventsIntstySeries, filelow.size, rate, int(rate//2))"
   ]
  },
  {
   "cell_type": "code",
   "execution_count": null,
   "metadata": {},
   "outputs": [],
   "source": [
    "print(events.size,noteventsIntstySeries.size)"
   ]
  },
  {
   "cell_type": "code",
   "execution_count": 20,
   "metadata": {},
   "outputs": [
    {
     "data": {
      "text/plain": [
       "[<matplotlib.lines.Line2D at 0x7f2a40b44550>]"
      ]
     },
     "execution_count": 20,
     "metadata": {},
     "output_type": "execute_result"
    },
    {
     "data": {
      "image/png": "[encoded data removed]",
      "text/plain": [
       "<Figure size 1296x288 with 1 Axes>"
      ]
     },
     "metadata": {},
     "output_type": "display_data"
    }
   ],
   "source": [
    "plt.figure(figsize=(18,4))\n",
    "start = 9120\n",
    "end = 9160\n",
    "plt.plot(np.arange(rate*start,rate*end)/rate, filelow[rate*start:rate*end]/filelow[rate*start:rate*end].max())\n",
    "plt.plot(np.arange(rate*start,rate*end)/rate, Time[rate*start:rate*end]/1.9)\n",
    "plt.plot(np.arange(rate*start,rate*end)/rate, TimeIntensity[rate*start:rate*end]/2.1)"
   ]
  },
  {
   "cell_type": "code",
   "execution_count": null,
   "metadata": {},
   "outputs": [],
   "source": [
    "events[events == 1].size/events[events == 0].size"
   ]
  },
  {
   "cell_type": "code",
   "execution_count": null,
   "metadata": {},
   "outputs": [],
   "source": [
    "filelow.max()*0.02"
   ]
  },
  {
   "cell_type": "code",
   "execution_count": null,
   "metadata": {},
   "outputs": [],
   "source": [
    "fig = plt.figure(figsize=(50,5))\n",
    "plt.plot(notevents)\n",
    "#fig.savefig(fname = 'events', dpi=500)"
   ]
  },
  {
   "cell_type": "code",
   "execution_count": null,
   "metadata": {},
   "outputs": [],
   "source": [
    "thetas.size"
   ]
  },
  {
   "cell_type": "code",
   "execution_count": null,
   "metadata": {},
   "outputs": [],
   "source": [
    "np.arange(0,filelow.size,220).size"
   ]
  },
  {
   "cell_type": "code",
   "execution_count": null,
   "metadata": {},
   "outputs": [],
   "source": [
    "notevents.mean()"
   ]
  },
  {
   "cell_type": "code",
   "execution_count": null,
   "metadata": {},
   "outputs": [],
   "source": []
  },
  {
   "cell_type": "code",
   "execution_count": null,
   "metadata": {},
   "outputs": [],
   "source": []
  },
  {
   "cell_type": "code",
   "execution_count": null,
   "metadata": {},
   "outputs": [],
   "source": []
  },
  {
   "cell_type": "code",
   "execution_count": null,
   "metadata": {},
   "outputs": [],
   "source": [
    "events.size"
   ]
  },
  {
   "cell_type": "code",
   "execution_count": null,
   "metadata": {},
   "outputs": [],
   "source": [
    "filelow.size"
   ]
  },
  {
   "cell_type": "code",
   "execution_count": null,
   "metadata": {},
   "outputs": [],
   "source": [
    "data = np.random.random(100)*2-1"
   ]
  },
  {
   "cell_type": "code",
   "execution_count": null,
   "metadata": {},
   "outputs": [],
   "source": [
    "a=data[25:50]\n",
    "print(a)\n",
    "b=(a<0.5) & (a>-0.5)\n",
    "b"
   ]
  },
  {
   "cell_type": "markdown",
   "metadata": {},
   "source": [
    "The code in the next two cells is broken. The gist is to analyze the effect the bandpass filters had on the snoring peak detection:"
   ]
  },
  {
   "cell_type": "code",
   "execution_count": null,
   "metadata": {},
   "outputs": [],
   "source": [
    "print(pd.DataFrame(np.column_stack([indsfull,inds80300[:len(indsfull)]])))"
   ]
  },
  {
   "cell_type": "code",
   "execution_count": null,
   "metadata": {},
   "outputs": [],
   "source": [
    "print(len(list(set(indsfull)-set(inds80300))))\n",
    "print(len(list(set(inds80300)-set(indsfull))))\n",
    "a = set(indsfull)-set(inds80300)\n",
    "b = set(inds80300)-set(indsfull)\n",
    "c = set(indsfull) - a\n",
    "\n",
    "timelist = []\n",
    "for i in np.sort(tTime[list(a)])/60:\n",
    "    timelist += [str(int(math.modf(i)[1]))+':'+str(round(math.modf(i)[0]*6000))]\n",
    "    \n",
    "timelist2 = []\n",
    "for i in np.sort(tTime[list(b)])/60:\n",
    "    timelist2 += [str(int(math.modf(i)[1]))+':'+str(round(math.modf(i)[0]*6000))]\n",
    "    \n",
    "timelist3 = []\n",
    "for i in np.sort(tTime[list(c)])/60:\n",
    "    timelist3 += [str(int(math.modf(i)[1]))+':'+str(round(math.modf(i)[0]*6000))]\n",
    "    \n",
    "print(timelist,'\\n\\n\\n',timelist2,'\\n\\n\\n',timelist3)"
   ]
  },
  {
   "cell_type": "markdown",
   "metadata": {},
   "source": [
    "Analysis of how many snoring events were found during a segment from audio. The analysis indicates that previous snoring detection algorithm was not calibrated and too many events were not detected."
   ]
  },
  {
   "cell_type": "code",
   "execution_count": 17,
   "metadata": {},
   "outputs": [
    {
     "name": "stderr",
     "output_type": "stream",
     "text": [
      "/usr/local/lib/python3.5/dist-packages/pandas/core/computation/check.py:17: UserWarning: The installed version of numexpr 2.4.3 is not supported in pandas and will be not be used\n",
      "The minimum supported version is 2.4.6\n",
      "\n",
      "  ver=ver, min_ver=_MIN_NUMEXPR_VERSION), UserWarning)\n"
     ]
    }
   ],
   "source": [
    "data = pd.read_csv('KyoshiPRECSVanalise.csv',names=['time','issnore'])\n",
    "data2 = data.copy()\n",
    "data2['year'] = 2012\n",
    "data2['month'] = 3\n",
    "data2['day'] = 12\n",
    "data2['hour'] = data['time']//3600\n",
    "data2['minute'] = data['time']%3600//60\n",
    "data2['second'] = data['time']%60\n",
    "data2 = data2.set_index(pd.to_datetime(data2[['year','month','day','hour','minute','second']],infer_datetime_format=True))\n",
    "data2.drop(['year','month','day','hour','minute','second','time'],axis=1, inplace=True)"
   ]
  },
  {
   "cell_type": "code",
   "execution_count": 18,
   "metadata": {},
   "outputs": [
    {
     "data": {
      "text/html": [
       "<div>\n",
       "<style scoped>\n",
       "    .dataframe tbody tr th:only-of-type {\n",
       "        vertical-align: middle;\n",
       "    }\n",
       "\n",
       "    .dataframe tbody tr th {\n",
       "        vertical-align: top;\n",
       "    }\n",
       "\n",
       "    .dataframe thead th {\n",
       "        text-align: right;\n",
       "    }\n",
       "</style>\n",
       "<table border=\"1\" class=\"dataframe\">\n",
       "  <thead>\n",
       "    <tr style=\"text-align: right;\">\n",
       "      <th></th>\n",
       "      <th>issnore</th>\n",
       "    </tr>\n",
       "  </thead>\n",
       "  <tbody>\n",
       "    <tr>\n",
       "      <th>2012-03-12 01:01:43</th>\n",
       "      <td>0</td>\n",
       "    </tr>\n",
       "    <tr>\n",
       "      <th>2012-03-12 01:02:42</th>\n",
       "      <td>0</td>\n",
       "    </tr>\n",
       "    <tr>\n",
       "      <th>2012-03-12 01:03:57</th>\n",
       "      <td>0</td>\n",
       "    </tr>\n",
       "  </tbody>\n",
       "</table>\n",
       "</div>"
      ],
      "text/plain": [
       "                     issnore\n",
       "2012-03-12 01:01:43        0\n",
       "2012-03-12 01:02:42        0\n",
       "2012-03-12 01:03:57        0"
      ]
     },
     "execution_count": 18,
     "metadata": {},
     "output_type": "execute_result"
    }
   ],
   "source": [
    "data2['2012-03-12 01:00:00':'2012-03-12 01:05:00']"
   ]
  },
  {
   "cell_type": "markdown",
   "metadata": {},
   "source": [
    "Code bellow can be considered trash. :)"
   ]
  },
  {
   "cell_type": "code",
   "execution_count": null,
   "metadata": {},
   "outputs": [],
   "source": [
    "len(segmentPOS)/ratePOS*2 #int((ratePOS*(1-0.5)))"
   ]
  },
  {
   "cell_type": "code",
   "execution_count": null,
   "metadata": {},
   "outputs": [],
   "source": [
    "a = np.arange(10)\n",
    "np.square(a)"
   ]
  },
  {
   "cell_type": "code",
   "execution_count": null,
   "metadata": {},
   "outputs": [],
   "source": [
    "#POSfft = fft(segmentPOS - segmentPOS.mean())\n",
    "#N= len(POSfft)\n",
    "#freq = np.linspace(1,ratePOS*1.0/2.0,round(N*1.0/2.0))"
   ]
  },
  {
   "cell_type": "code",
   "execution_count": null,
   "metadata": {},
   "outputs": [],
   "source": [
    "#round(len(freq))"
   ]
  },
  {
   "cell_type": "code",
   "execution_count": null,
   "metadata": {},
   "outputs": [],
   "source": [
    "#rate"
   ]
  },
  {
   "cell_type": "code",
   "execution_count": null,
   "metadata": {},
   "outputs": [],
   "source": [
    "#plt.plot(freq[0:30000], 2/N*np.abs(POSfft)[0:30000])"
   ]
  },
  {
   "cell_type": "code",
   "execution_count": null,
   "metadata": {},
   "outputs": [],
   "source": [
    "sns.lineplot(freq, 2*np.abs(POSfft)[0:N//2])"
   ]
  },
  {
   "cell_type": "code",
   "execution_count": null,
   "metadata": {},
   "outputs": [],
   "source": [
    "len(file3)/rate"
   ]
  },
  {
   "cell_type": "code",
   "execution_count": null,
   "metadata": {},
   "outputs": [],
   "source": [
    "freq, time, audiostft = stft(file3, rate)"
   ]
  },
  {
   "cell_type": "code",
   "execution_count": null,
   "metadata": {},
   "outputs": [],
   "source": [
    "freq2, time2, audiostft2 = stft(file4, rate)"
   ]
  },
  {
   "cell_type": "code",
   "execution_count": null,
   "metadata": {},
   "outputs": [],
   "source": [
    "a = audiostft[:][0:500]"
   ]
  },
  {
   "cell_type": "code",
   "execution_count": null,
   "metadata": {},
   "outputs": [],
   "source": [
    "freq"
   ]
  },
  {
   "cell_type": "code",
   "execution_count": null,
   "metadata": {},
   "outputs": [],
   "source": [
    "time"
   ]
  },
  {
   "cell_type": "code",
   "execution_count": null,
   "metadata": {},
   "outputs": [],
   "source": [
    "sns.heatmap(np.abs(a), vmax=6)\n",
    "#plt.xticks(a[0:-1:500],[0,0.5,1.0,1.5])\n",
    "#plt.colorbar()\n",
    "plt.show()"
   ]
  },
  {
   "cell_type": "code",
   "execution_count": null,
   "metadata": {},
   "outputs": [],
   "source": [
    "audiostft.shape"
   ]
  },
  {
   "cell_type": "code",
   "execution_count": null,
   "metadata": {},
   "outputs": [],
   "source": [
    "np.abs(audiostft).std()"
   ]
  },
  {
   "cell_type": "code",
   "execution_count": null,
   "metadata": {},
   "outputs": [],
   "source": [
    "a = list(range(0,1674))"
   ]
  },
  {
   "cell_type": "code",
   "execution_count": null,
   "metadata": {},
   "outputs": [],
   "source": [
    "a[-1]"
   ]
  },
  {
   "cell_type": "code",
   "execution_count": null,
   "metadata": {},
   "outputs": [],
   "source": []
  },
  {
   "cell_type": "code",
   "execution_count": null,
   "metadata": {},
   "outputs": [],
   "source": [
    "time"
   ]
  },
  {
   "cell_type": "code",
   "execution_count": null,
   "metadata": {},
   "outputs": [],
   "source": []
  },
  {
   "cell_type": "code",
   "execution_count": null,
   "metadata": {},
   "outputs": [],
   "source": []
  }
 ],
 "metadata": {
  "kernelspec": {
   "display_name": "Python 3",
   "language": "python",
   "name": "python3"
  },
  "language_info": {
   "codemirror_mode": {
    "name": "ipython",
    "version": 3
   },
   "file_extension": ".py",
   "mimetype": "text/x-python",
   "name": "python",
   "nbconvert_exporter": "python",
   "pygments_lexer": "ipython3",
   "version": "3.5.2"
  }
 },
 "nbformat": 4,
 "nbformat_minor": 2
}
